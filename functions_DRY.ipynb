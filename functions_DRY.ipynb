{
  "nbformat": 4,
  "nbformat_minor": 0,
  "metadata": {
    "colab": {
      "provenance": [],
      "include_colab_link": true
    },
    "kernelspec": {
      "name": "python3",
      "display_name": "Python 3"
    },
    "language_info": {
      "name": "python"
    }
  },
  "cells": [
    {
      "cell_type": "markdown",
      "metadata": {
        "id": "view-in-github",
        "colab_type": "text"
      },
      "source": [
        "<a href=\"https://colab.research.google.com/github/lekshmilekshmi/Activites/blob/main/functions_DRY.ipynb\" target=\"_parent\"><img src=\"https://colab.research.google.com/assets/colab-badge.svg\" alt=\"Open In Colab\"/></a>"
      ]
    },
    {
      "cell_type": "markdown",
      "source": [
        "# CODING BEST PRACTICES\n",
        "\n",
        "---\n",
        "\n",
        "\n",
        "\n",
        "\n",
        "1.   Readability - PEP8 style\n",
        "2.   Functions and DRY(dont repeat yourself) principle\n",
        "3. Error Handling and Exception and Validation\n",
        "4. Documentation and Commenting\n",
        "5. Writing Pythonic Code\n",
        "\n"
      ],
      "metadata": {
        "id": "k4VuW8O-MFyA"
      }
    },
    {
      "cell_type": "markdown",
      "source": [
        "##DRY Principle (Don't Repeat Yourself)\n",
        "\n",
        "Why it matters:\n",
        "1. Easier to maintain → If you change you only update it once.\n",
        "\n",
        "2. Fewer bugs → No chance of missing an update in one of the copies.\n",
        "\n",
        "3. Cleaner code → Shorter, more readable.\n",
        "\n",
        "4. Reusability → Common logic can be used across the program."
      ],
      "metadata": {
        "id": "lRTGcmBag-QW"
      }
    },
    {
      "cell_type": "markdown",
      "source": [
        "##Pythonic code\n",
        "\n",
        "1. Readable – Anyone can quickly understand what rectangle_area(length, width) does without reading comments.\n",
        "\n",
        "2. Reusability – One function works for any rectangle size (avoiding hard-coding).\n",
        "\n",
        "3. DRY principle – No duplicated formula; change it once in the function if needed.\n",
        "\n",
        "4. Explicit over implicit – Function name clearly tells what it returns (matches Python’s philosophy).\n",
        "\n",
        "5. Simple – Minimal lines, no unnecessary variables or steps.\n",
        "\n"
      ],
      "metadata": {
        "id": "pOxjnHHljTtD"
      }
    },
    {
      "cell_type": "code",
      "source": [
        "#without DRY principle\n",
        "# Calculate area of a rectangle\n",
        "length1 = 5\n",
        "width1 = 10\n",
        "area1 = length1 * width1\n",
        "print(\"Area 1:\", area1)\n",
        "\n",
        "# Calculate area of another rectangle\n",
        "length2 = 7\n",
        "width2 = 8\n",
        "area2 = length2 * width2\n",
        "print(\"Area 2:\", area2)\n"
      ],
      "metadata": {
        "colab": {
          "base_uri": "https://localhost:8080/"
        },
        "id": "PhSuwo4Nh4T2",
        "outputId": "fe6e0a2a-2b38-4350-f26e-d0b06610fc3b"
      },
      "execution_count": null,
      "outputs": [
        {
          "output_type": "stream",
          "name": "stdout",
          "text": [
            "Area 1: 50\n",
            "Area 2: 56\n"
          ]
        }
      ]
    },
    {
      "cell_type": "code",
      "source": [
        "#with dry principle\n",
        "def rectangle_area(length, width):\n",
        "    return length * width\n",
        "\n",
        "print(\"Area 1:\", rectangle_area(5, 10))\n",
        "print(\"Area 2:\", rectangle_area(7, 8))\n"
      ],
      "metadata": {
        "colab": {
          "base_uri": "https://localhost:8080/"
        },
        "id": "wphFg2SliEQT",
        "outputId": "b4936c5e-ec70-4197-8410-a142988655da"
      },
      "execution_count": null,
      "outputs": [
        {
          "output_type": "stream",
          "name": "stdout",
          "text": [
            "Area 1: 50\n",
            "Area 2: 56\n"
          ]
        }
      ]
    },
    {
      "cell_type": "markdown",
      "source": [
        "##1. Use Meaningful Function Names\n",
        "Make names descriptive of what the function does."
      ],
      "metadata": {
        "id": "U7QhLUJjWhZz"
      }
    },
    {
      "cell_type": "code",
      "source": [
        "# Bad\n",
        "def fn(a, b):\n",
        "    return a + b"
      ],
      "metadata": {
        "id": "fr5W0LXIR9i9"
      },
      "execution_count": null,
      "outputs": []
    },
    {
      "cell_type": "code",
      "source": [
        "# Good\n",
        "def calculate_total_price(price, tax):\n",
        "    return price + tax"
      ],
      "metadata": {
        "id": "Z7obiovpWv6F"
      },
      "execution_count": null,
      "outputs": []
    },
    {
      "cell_type": "markdown",
      "source": [
        "##2. Keep Functions Small and Focused\n",
        "A function should do one thing well.\n"
      ],
      "metadata": {
        "id": "mkPZyi77W7Ek"
      }
    },
    {
      "cell_type": "code",
      "source": [
        "#Bad code\n",
        "def process_order(order):\n",
        "    # Validate order\n",
        "    if not order:\n",
        "        return \"Invalid order\"\n",
        "\n",
        "    # Calculate price\n",
        "    price = 0\n",
        "    for item in order:\n",
        "        price += item[\"price\"]\n",
        "\n",
        "    # Apply tax\n",
        "    tax = price * 0.18\n",
        "    total_price = price + tax\n",
        "\n",
        "    # Print receipt\n",
        "    print(\"Order details:\")\n",
        "    for item in order:\n",
        "        print(f\"{item['name']}: ₹{item['price']}\")\n",
        "    print(f\"Total (incl. tax): ₹{total_price}\")\n"
      ],
      "metadata": {
        "id": "aYNrDuJQXAH3"
      },
      "execution_count": null,
      "outputs": []
    },
    {
      "cell_type": "code",
      "source": [
        "# Good code\n",
        "def validate_order(order):\n",
        "    return bool(order)\n",
        "\n",
        "def calculate_total(order, tax_rate=0.18):\n",
        "    subtotal = sum(item[\"price\"] for item in order)\n",
        "    return subtotal + subtotal * tax_rate\n",
        "\n",
        "def print_receipt(order, total_price):\n",
        "    print(\"Order details:\")\n",
        "    for item in order:\n",
        "        print(f\"{item['name']}: ₹{item['price']}\")\n",
        "    print(f\"Total (incl. tax): ₹{total_price}\")\n",
        "\n",
        "order = [{\"name\": \"Book\", \"price\": 200}, {\"name\": \"Pen\", \"price\": 20}]\n",
        "\n",
        "if validate_order(order):\n",
        "    total = calculate_total(order)\n",
        "    print_receipt(order, total)\n",
        "else:\n",
        "    print(\"Invalid order\")\n"
      ],
      "metadata": {
        "id": "W3RmgAQfXFI9"
      },
      "execution_count": null,
      "outputs": []
    },
    {
      "cell_type": "markdown",
      "source": [
        "##3.Use Default Arguments for Flexibility\n",
        "\n",
        "\n",
        "1. Makes functions easier to call without requiring all parameters every time.\n",
        "2.  Avoid Global Variables Inside Functions\n",
        "3. Pass needed values as arguments instead of relying on global state.\n",
        "\n"
      ],
      "metadata": {
        "id": "pS184dmoX81j"
      }
    },
    {
      "cell_type": "code",
      "source": [
        "#Bad code\n",
        "def greet_user(name, greeting):\n",
        "    print(f\"{greeting}, {name}!\")\n",
        "\n",
        "# Every time we call the function, we must provide both arguments\n",
        "greet_user(\"Alice\", \"Hello\")\n",
        "greet_user(\"Bob\", \"Hi\")\n"
      ],
      "metadata": {
        "colab": {
          "base_uri": "https://localhost:8080/"
        },
        "id": "vcBAo-rdYFkU",
        "outputId": "c54d9059-5180-45b9-93c9-3d704107f3f0"
      },
      "execution_count": null,
      "outputs": [
        {
          "output_type": "stream",
          "name": "stdout",
          "text": [
            "Hello, Alice!\n",
            "Hi, Bob!\n"
          ]
        }
      ]
    },
    {
      "cell_type": "code",
      "source": [
        "#Good code\n",
        "def greet_user(name, greeting=\"Hello\"):\n",
        "    print(f\"{greeting}, {name}!\")\n",
        "\n",
        "# You can use the default\n",
        "greet_user(\"Alice\")\n",
        "\n",
        "# Or override it when needed\n",
        "greet_user(\"Bob\", \"Hi\")\n"
      ],
      "metadata": {
        "colab": {
          "base_uri": "https://localhost:8080/"
        },
        "id": "xSJI-IpAYIk4",
        "outputId": "40f1e47e-741d-4abb-c4a1-c9c20e2c4ec9"
      },
      "execution_count": null,
      "outputs": [
        {
          "output_type": "stream",
          "name": "stdout",
          "text": [
            "Hello, Alice!\n",
            "Hi, Bob!\n"
          ]
        }
      ]
    },
    {
      "cell_type": "code",
      "source": [
        "#without DRY principle\n",
        "names = [\"Alice\", \"Bob\", \"Charlie\"]\n",
        "\n",
        "for person in names:\n",
        "    if person == \"Alice\":\n",
        "        print(f\"Hey {person}!\")\n",
        "    elif person == \"Bob\":\n",
        "        print(f\"Hey {person}!\")\n",
        "    elif person == \"Charlie\":\n",
        "        print(f\"Hey {person}!\")\n"
      ],
      "metadata": {
        "colab": {
          "base_uri": "https://localhost:8080/"
        },
        "id": "9wjT-GVRlJ-L",
        "outputId": "666e6ec4-7ff2-440b-f5dd-a2c4d28bb0ff"
      },
      "execution_count": null,
      "outputs": [
        {
          "output_type": "stream",
          "name": "stdout",
          "text": [
            "Hey Alice!\n",
            "Hey Bob!\n",
            "Hey Charlie!\n"
          ]
        }
      ]
    },
    {
      "cell_type": "code",
      "source": [
        "#with DRY principle\n",
        "def greet(name, topic=\"formal\"):\n",
        "    \"\"\"Greet a person in a given style.\"\"\"\n",
        "    greetings = {\n",
        "        \"formal\": f\"Good day, {name}.\",\n",
        "        \"casual\": f\"Hey {name}!\",\n",
        "        \"friendly\": f\"Hi {name} 😊\"\n",
        "    }\n",
        "    return greetings.get(topic, greetings[\"friendly\"])\n",
        "\n",
        "names = [\"Alice\", \"Bob\", \"Charlie\"]\n",
        "\n",
        "for person in names:\n",
        "    print(greet(person, \"friendly\"))\n"
      ],
      "metadata": {
        "id": "Bh44B6gClPWJ",
        "outputId": "8f97b707-f165-4586-95a7-a89991647a60",
        "colab": {
          "base_uri": "https://localhost:8080/"
        }
      },
      "execution_count": null,
      "outputs": [
        {
          "output_type": "stream",
          "name": "stdout",
          "text": [
            "Hi Alice 😊\n",
            "Hi Bob 😊\n",
            "Hi Charlie 😊\n"
          ]
        }
      ]
    },
    {
      "cell_type": "markdown",
      "source": [
        "##4.Avoid Hardcoding – Use Parameters\n",
        "Don’t lock values inside the function — make them configurable."
      ],
      "metadata": {
        "id": "gKJyYhcjYYLV"
      }
    },
    {
      "cell_type": "code",
      "source": [
        "# Bad\n",
        "def connect():\n",
        "    return \"Connecting to server at 127.0.0.1\"\n",
        "print(connect())"
      ],
      "metadata": {
        "colab": {
          "base_uri": "https://localhost:8080/"
        },
        "id": "fT9QZWIPYaSN",
        "outputId": "3d1f50cc-9a1f-4cf0-b627-d3cc83007976"
      },
      "execution_count": null,
      "outputs": [
        {
          "output_type": "stream",
          "name": "stdout",
          "text": [
            "Connecting to server at 127.0.0.1\n"
          ]
        }
      ]
    },
    {
      "cell_type": "code",
      "source": [
        "# Good\n",
        "def connect(server_ip):\n",
        "    return f\"Connecting to server at {server_ip}\"\n",
        "print(connect(\"127.0.0.1\"))"
      ],
      "metadata": {
        "colab": {
          "base_uri": "https://localhost:8080/"
        },
        "id": "DVxkFmH0Y820",
        "outputId": "dc0f2cd1-3e17-48f1-f885-3cef28cc1157"
      },
      "execution_count": null,
      "outputs": [
        {
          "output_type": "stream",
          "name": "stdout",
          "text": [
            "Connecting to server at 127.0.0.1\n"
          ]
        }
      ]
    },
    {
      "cell_type": "markdown",
      "source": [
        "##5. Use Docstrings for Clarity\n",
        "Explain what the function does, its parameters, and return values."
      ],
      "metadata": {
        "id": "3BZ8vy6jZAs-"
      }
    },
    {
      "cell_type": "code",
      "source": [
        "def calculate_area(radius):\n",
        "    \"\"\"\n",
        "    Calculate the area of a circle.\n",
        "\n",
        "    Args:\n",
        "        radius (float): The radius of the circle.\n",
        "    Returns:\n",
        "        float: The area of the circle.\n",
        "    \"\"\"\n",
        "    from math import pi\n",
        "    return pi * radius ** 2\n",
        "print(calculate_area(5))"
      ],
      "metadata": {
        "colab": {
          "base_uri": "https://localhost:8080/"
        },
        "id": "J_KQBy88Y5k0",
        "outputId": "ce2d4f96-8735-4e66-bf27-698ac7a5a560"
      },
      "execution_count": null,
      "outputs": [
        {
          "output_type": "stream",
          "name": "stdout",
          "text": [
            "78.53981633974483\n"
          ]
        }
      ]
    },
    {
      "cell_type": "code",
      "source": [
        "print(calculate_area.__doc__)"
      ],
      "metadata": {
        "colab": {
          "base_uri": "https://localhost:8080/"
        },
        "id": "UyriRnV9v2YN",
        "outputId": "b944170e-e407-459c-ed4c-37b4bae2c617"
      },
      "execution_count": null,
      "outputs": [
        {
          "output_type": "stream",
          "name": "stdout",
          "text": [
            "\n",
            "    Calculate the area of a circle.\n",
            "\n",
            "    Args:\n",
            "        radius (float): The radius of the circle.\n",
            "    Returns:\n",
            "        float: The area of the circle.\n",
            "    \n"
          ]
        }
      ]
    },
    {
      "cell_type": "markdown",
      "source": [
        "##6. Return Values Instead of Printing\n",
        "Let the caller decide what to do with the result."
      ],
      "metadata": {
        "id": "H1uYTKFnZLxn"
      }
    },
    {
      "cell_type": "code",
      "source": [
        "# Bad\n",
        "def add(a, b):\n",
        "    print(a + b)\n",
        "add(2,5)\n"
      ],
      "metadata": {
        "colab": {
          "base_uri": "https://localhost:8080/"
        },
        "id": "me3iFdMrY7Np",
        "outputId": "299129f7-e941-4a8d-9d37-731aaf5c9c4d"
      },
      "execution_count": null,
      "outputs": [
        {
          "output_type": "stream",
          "name": "stdout",
          "text": [
            "7\n"
          ]
        }
      ]
    },
    {
      "cell_type": "code",
      "source": [
        "# Good\n",
        "def add(a, b):\n",
        "    return a + b\n",
        "print(add(2,5))"
      ],
      "metadata": {
        "colab": {
          "base_uri": "https://localhost:8080/"
        },
        "id": "Y6V93riXZRFK",
        "outputId": "1678530f-4d73-45dc-c46e-86975b4b32cb"
      },
      "execution_count": null,
      "outputs": [
        {
          "output_type": "stream",
          "name": "stdout",
          "text": [
            "7\n"
          ]
        }
      ]
    },
    {
      "cell_type": "markdown",
      "source": [
        "##SAMPLE QUESTIONS"
      ],
      "metadata": {
        "id": "-OUH8zm9bx5H"
      }
    },
    {
      "cell_type": "code",
      "source": [
        "# 1. Identify and improve\n",
        "#Identify where the DRY principle is violated.\n",
        "#Rewrite it in a Pythonic way using one function.\n",
        "def greet_formal(name):\n",
        "    return f\"Good day, {name}.\"\n",
        "\n",
        "def greet_casual(name):\n",
        "    return f\"Hey {name}!\"\n",
        "\n",
        "print(greet_formal(\"Alice\"))\n",
        "print(greet_casual(\"Bob\"))"
      ],
      "metadata": {
        "colab": {
          "base_uri": "https://localhost:8080/"
        },
        "id": "AtFVLzrYb2lL",
        "outputId": "dede7aa2-d9c7-47c0-e367-319559795f7d"
      },
      "execution_count": null,
      "outputs": [
        {
          "output_type": "stream",
          "name": "stdout",
          "text": [
            "Good day, Alice.\n",
            "Hey Bob!\n"
          ]
        }
      ]
    },
    {
      "cell_type": "code",
      "source": [
        "# 2. Refactor and simplify\n",
        "#Rewrite it in a more Pythonic way, ideally in a single line.  Give answers for these\n",
        "def check_even_odd(num):\n",
        "    if num % 2 == 0:\n",
        "        return \"Even\"\n",
        "    else:\n",
        "        return \"Odd\"\n",
        "print(check_even_odd(5))"
      ],
      "metadata": {
        "colab": {
          "base_uri": "https://localhost:8080/"
        },
        "id": "rNXB_l7ycQvf",
        "outputId": "c34a09d7-14ed-4204-9b15-f2ad8469a0e3"
      },
      "execution_count": null,
      "outputs": [
        {
          "output_type": "stream",
          "name": "stdout",
          "text": [
            "Odd\n"
          ]
        }
      ]
    },
    {
      "cell_type": "code",
      "source": [
        "# 3. Remove repetition with a function\n",
        "#Rewrite this in a DRY and Pythonic way using a function\n",
        "print(f\"Area of rectangle: {5 * 10}\")\n",
        "print(f\"Area of rectangle: {3 * 8}\")\n",
        "print(f\"Area of rectangle: {6 * 4}\")\n"
      ],
      "metadata": {
        "colab": {
          "base_uri": "https://localhost:8080/"
        },
        "id": "4MFU517Acw__",
        "outputId": "37f9edb4-6dc9-47ce-e8a4-59067a26c147"
      },
      "execution_count": null,
      "outputs": [
        {
          "output_type": "stream",
          "name": "stdout",
          "text": [
            "Area of rectangle: 50\n",
            "Area of rectangle: 24\n",
            "Area of rectangle: 24\n"
          ]
        }
      ]
    },
    {
      "cell_type": "markdown",
      "source": [
        "##ANSWERS"
      ],
      "metadata": {
        "id": "8J3w2EfvbW4F"
      }
    },
    {
      "cell_type": "code",
      "source": [
        "# ans 1\n",
        "def greet(name, style=\"formal\"):\n",
        "    greetings = {\n",
        "        \"formal\": f\"Good day, {name}.\",\n",
        "        \"casual\": f\"Hey {name}!\"\n",
        "    }\n",
        "    return greetings.get(style, f\"Hello, {name}!\")\n",
        "\n",
        "print(greet(\"Alice\", \"formal\"))\n",
        "print(greet(\"Bob\", \"casual\"))\n"
      ],
      "metadata": {
        "colab": {
          "base_uri": "https://localhost:8080/"
        },
        "id": "N6KL9nhXbYSj",
        "outputId": "0f0cb668-f9d1-48fc-ff83-a1bde56f67e8"
      },
      "execution_count": null,
      "outputs": [
        {
          "output_type": "stream",
          "name": "stdout",
          "text": [
            "Good day, Alice.\n",
            "Hey Bob!\n"
          ]
        }
      ]
    },
    {
      "cell_type": "code",
      "source": [
        "# ans 2\n",
        "def check_even_odd(num):\n",
        "    return \"Even\" if num % 2 == 0 else \"Odd\"\n",
        "print(check_even_odd(8))"
      ],
      "metadata": {
        "colab": {
          "base_uri": "https://localhost:8080/"
        },
        "id": "KBMOYL_YchMZ",
        "outputId": "a236077c-7482-487a-a2f0-86f0a19e5f63"
      },
      "execution_count": null,
      "outputs": [
        {
          "output_type": "stream",
          "name": "stdout",
          "text": [
            "Even\n"
          ]
        }
      ]
    },
    {
      "cell_type": "code",
      "source": [
        "# ans 3\n",
        "def rectangle_area(length, width):\n",
        "    return length * width\n",
        "\n",
        "print(f\"Area of rectangle: {rectangle_area(5, 10)}\")\n",
        "print(f\"Area of rectangle: {rectangle_area(3, 8)}\")\n",
        "print(f\"Area of rectangle: {rectangle_area(6, 4)}\")\n"
      ],
      "metadata": {
        "colab": {
          "base_uri": "https://localhost:8080/"
        },
        "id": "_Y-BILvecyuu",
        "outputId": "b32d12da-d462-47e3-bced-70d5d557ae8b"
      },
      "execution_count": null,
      "outputs": [
        {
          "output_type": "stream",
          "name": "stdout",
          "text": [
            "Area of rectangle: 50\n",
            "Area of rectangle: 24\n",
            "Area of rectangle: 24\n"
          ]
        }
      ]
    }
  ]
}